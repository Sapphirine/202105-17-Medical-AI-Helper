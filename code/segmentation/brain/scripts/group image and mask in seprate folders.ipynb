{
 "cells": [
  {
   "cell_type": "code",
   "execution_count": 4,
   "metadata": {},
   "outputs": [],
   "source": [
    "from glob import glob\n",
    "from shutil import copy2\n",
    "import os"
   ]
  },
  {
   "cell_type": "code",
   "execution_count": 5,
   "metadata": {},
   "outputs": [],
   "source": [
    "train_files = []\n",
    "mask_files = glob('/home/gxt/study/BrainSegmentation/BrainMRI/dataset/lgg-mri-segmentation/kaggle_3m/*/*_mask*')\n",
    "\n",
    "for i in mask_files:\n",
    "    train_files.append(i.replace('_mask',''))\n",
    "#print(train_files[:10])\n",
    "#print(mask_files[:10])"
   ]
  },
  {
   "cell_type": "code",
   "execution_count": 6,
   "metadata": {
    "scrolled": false
   },
   "outputs": [
    {
     "name": "stdout",
     "output_type": "stream",
     "text": [
      "Done!\n"
     ]
    }
   ],
   "source": [
    "trainImageFolder = '/home/gxt/study/BrainSegmentation/BrainMRI/dataset/splited/img/'\n",
    "maskImageFolder = '/home/gxt/study/BrainSegmentation/BrainMRI/dataset/splited/mask/'\n",
    "if not os.path.exists(trainImageFolder):\n",
    "    os.mkdir(trainImageFolder)\n",
    "if not os.path.exists(maskImageFolder):\n",
    "    os.mkdir(maskImageFolder)\n",
    "for train in train_files:\n",
    "    ri = train.rindex('/')\n",
    "    ss = train[ri + 1:]\n",
    "    trainImagePath = trainImageFolder + ss\n",
    "    copy2(train,trainImageFolder)\n",
    "    \n",
    "for mask in mask_files:\n",
    "    ri = mask.rindex('/')\n",
    "    ss = mask[ri + 1:]\n",
    "    maskImagePath = maskImageFolder + ss\n",
    "    #print(mask)\n",
    "    copy2(mask,maskImageFolder)\n",
    "print(\"Done!\")"
   ]
  },
  {
   "cell_type": "code",
   "execution_count": null,
   "metadata": {},
   "outputs": [],
   "source": []
  },
  {
   "cell_type": "code",
   "execution_count": null,
   "metadata": {},
   "outputs": [],
   "source": []
  }
 ],
 "metadata": {
  "kernelspec": {
   "display_name": "TF20GPU",
   "language": "python",
   "name": "tf20gpu"
  },
  "language_info": {
   "codemirror_mode": {
    "name": "ipython",
    "version": 3
   },
   "file_extension": ".py",
   "mimetype": "text/x-python",
   "name": "python",
   "nbconvert_exporter": "python",
   "pygments_lexer": "ipython3",
   "version": "3.7.10"
  }
 },
 "nbformat": 4,
 "nbformat_minor": 2
}
