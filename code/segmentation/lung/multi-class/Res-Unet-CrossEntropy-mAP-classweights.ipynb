{
 "cells": [
  {
   "cell_type": "code",
   "execution_count": 1,
   "metadata": {
    "scrolled": true
   },
   "outputs": [
    {
     "data": {
      "text/plain": [
       "True"
      ]
     },
     "execution_count": 1,
     "metadata": {},
     "output_type": "execute_result"
    }
   ],
   "source": [
    "import tensorflow as tf\n",
    "tf.test.is_gpu_available()"
   ]
  },
  {
   "cell_type": "code",
   "execution_count": 2,
   "metadata": {},
   "outputs": [],
   "source": [
    "from tensorflow.compat.v1 import ConfigProto\n",
    "from tensorflow.compat.v1 import InteractiveSession\n",
    "from tensorflow.keras.preprocessing.image import ImageDataGenerator\n",
    "from tensorflow.keras.optimizers import Adam\n",
    "config = ConfigProto()\n",
    "config.gpu_options.allow_growth = True\n",
    "session = InteractiveSession(config=config)"
   ]
  },
  {
   "cell_type": "code",
   "execution_count": 3,
   "metadata": {},
   "outputs": [
    {
     "name": "stderr",
     "output_type": "stream",
     "text": [
      "Using TensorFlow backend.\n"
     ]
    }
   ],
   "source": [
    "from keras.utils import normalize\n",
    "import os\n",
    "import glob\n",
    "import cv2\n",
    "import numpy as np\n",
    "from matplotlib import pyplot as plt\n",
    "from tensorflow.keras.models import Model, load_model, save_model"
   ]
  },
  {
   "cell_type": "code",
   "execution_count": 4,
   "metadata": {},
   "outputs": [],
   "source": [
    "#Resizing images, if needed\n",
    "SIZE_X = 224\n",
    "SIZE_Y = 224\n",
    "n_classes=3 #Number of classes for segmentation"
   ]
  },
  {
   "cell_type": "code",
   "execution_count": 5,
   "metadata": {},
   "outputs": [],
   "source": [
    "#Capture training image info as a list\n",
    "train_images = []"
   ]
  },
  {
   "cell_type": "code",
   "execution_count": 6,
   "metadata": {},
   "outputs": [],
   "source": [
    "for directory_path in glob.glob(\"/home/gxt/study/LungSegmentation/data/multi-class/Imgs\"):\n",
    "    for img_path in glob.glob(os.path.join(directory_path, \"*.jpg\")):\n",
    "        #print(img_path)\n",
    "        img = cv2.imread(img_path, 0)       \n",
    "        img = cv2.resize(img, (SIZE_Y, SIZE_X))\n",
    "        train_images.append(img)"
   ]
  },
  {
   "cell_type": "code",
   "execution_count": 7,
   "metadata": {},
   "outputs": [],
   "source": [
    "#Convert list to array for machine learning processing        \n",
    "train_images = np.array(train_images)"
   ]
  },
  {
   "cell_type": "code",
   "execution_count": 8,
   "metadata": {},
   "outputs": [
    {
     "name": "stdout",
     "output_type": "stream",
     "text": [
      "98\n"
     ]
    }
   ],
   "source": [
    "print(len(train_images))"
   ]
  },
  {
   "cell_type": "code",
   "execution_count": 9,
   "metadata": {},
   "outputs": [],
   "source": [
    "train_masks = [] \n",
    "for directory_path in glob.glob(\"/home/gxt/study/LungSegmentation/data/multi-class/labels\"):\n",
    "    for mask_path in glob.glob(os.path.join(directory_path, \"*.png\")):\n",
    "        #print(mask_path)\n",
    "        mask = cv2.imread(mask_path, 0)       \n",
    "        mask = cv2.resize(mask, (SIZE_Y, SIZE_X), interpolation = cv2.INTER_NEAREST)  #Otherwise ground truth changes due to interpolation\n",
    "        train_masks.append(mask)"
   ]
  },
  {
   "cell_type": "code",
   "execution_count": 10,
   "metadata": {},
   "outputs": [],
   "source": [
    "#Convert list to array for machine learning processing          \n",
    "train_masks = np.array(train_masks)"
   ]
  },
  {
   "cell_type": "code",
   "execution_count": null,
   "metadata": {},
   "outputs": [],
   "source": [
    "np.unique(train_masks)"
   ]
  },
  {
   "cell_type": "code",
   "execution_count": null,
   "metadata": {},
   "outputs": [],
   "source": [
    "print(train_masks.shape)"
   ]
  },
  {
   "cell_type": "code",
   "execution_count": null,
   "metadata": {},
   "outputs": [],
   "source": [
    "from sklearn.preprocessing import LabelEncoder\n",
    "labelencoder = LabelEncoder()\n",
    "n, h, w = train_masks.shape\n",
    "train_masks_reshaped = train_masks.reshape(-1,1)\n",
    "train_masks_reshaped_encoded = labelencoder.fit_transform(train_masks_reshaped)\n",
    "train_masks_encoded_original_shape = train_masks_reshaped_encoded.reshape(n, h, w)\n",
    "\n",
    "np.unique(train_masks_encoded_original_shape)"
   ]
  },
  {
   "cell_type": "code",
   "execution_count": 14,
   "metadata": {},
   "outputs": [],
   "source": [
    "train_images = np.expand_dims(train_images, axis=3)\n",
    "train_images = normalize(train_images, axis=1)\n",
    "\n",
    "train_masks_input = np.expand_dims(train_masks_encoded_original_shape, axis=3)"
   ]
  },
  {
   "cell_type": "code",
   "execution_count": null,
   "metadata": {},
   "outputs": [],
   "source": [
    "#Create a subset of data for quick testing\n",
    "#Picking 10% for testing and remaining for training\n",
    "from sklearn.model_selection import train_test_split\n",
    "X1, X_test, y1, y_test = train_test_split(train_images, train_masks_input, test_size = 0.10, random_state = 0)\n",
    "\n",
    "#Further split training data t a smaller subset for quick testing of models\n",
    "#X_train, X_do_not_use, y_train, y_do_not_use = train_test_split(X1, y1, test_size = 0.2, random_state = 0)\n",
    "\n",
    "print(\"Class values in the dataset are ... \", np.unique(y1))  # 0 is the background/few unlabeled \n",
    "\n",
    "from keras.utils import to_categorical\n",
    "#train_masks_cat = to_categorical(y_train, num_classes=n_classes)\n",
    "#y_train_cat = train_masks_cat.reshape((y_train.shape[0], y_train.shape[1], y_train.shape[2], n_classes))\n",
    "train_masks_cat = to_categorical(y1, num_classes=n_classes)\n",
    "y_train_cat = train_masks_cat.reshape((y1.shape[0], y1.shape[1], y1.shape[2], n_classes))\n",
    "\n",
    "\n",
    "test_masks_cat = to_categorical(y_test, num_classes=n_classes)\n",
    "y_test_cat = test_masks_cat.reshape((y_test.shape[0], y_test.shape[1], y_test.shape[2], n_classes))\n",
    "print(X1.shape)"
   ]
  },
  {
   "cell_type": "code",
   "execution_count": 16,
   "metadata": {},
   "outputs": [],
   "source": [
    "from tensorflow.keras.models import Model\n",
    "from tensorflow.keras.layers import Input, Activation, BatchNormalization, Dropout, Lambda, Conv2D, Conv2DTranspose, MaxPooling2D, add, concatenate,UpSampling2D,ZeroPadding2D"
   ]
  },
  {
   "cell_type": "code",
   "execution_count": 17,
   "metadata": {},
   "outputs": [],
   "source": [
    "def conv_block(inputs, \n",
    "            neuron_num, \n",
    "            kernel_size,  \n",
    "            use_bias, \n",
    "            padding= 'same',\n",
    "            strides= (1, 1),\n",
    "            with_conv_short_cut = False):\n",
    "        conv1 = Conv2D(\n",
    "            neuron_num,\n",
    "            kernel_size = kernel_size,\n",
    "            activation= 'relu',\n",
    "            strides= strides,\n",
    "            use_bias= use_bias,\n",
    "            padding= padding\n",
    "        )(inputs)\n",
    "        conv1 = BatchNormalization(axis = -1)(conv1)\n",
    "\n",
    "        conv2 = Conv2D(\n",
    "            neuron_num,\n",
    "            kernel_size= kernel_size,\n",
    "            activation= 'relu',\n",
    "            use_bias= use_bias,\n",
    "            padding= padding)(conv1)\n",
    "        conv2 = BatchNormalization(axis = -1)(conv2)\n",
    "\n",
    "        if with_conv_short_cut:\n",
    "            inputs = Conv2D(\n",
    "                neuron_num, \n",
    "                kernel_size= kernel_size,\n",
    "                strides= strides,\n",
    "                use_bias= use_bias,\n",
    "                padding= padding\n",
    "                )(inputs)\n",
    "            return add([inputs, conv2])\n",
    "\n",
    "        else:\n",
    "            return add([inputs, conv2])\n",
    "\n",
    "\n",
    "def unet_res(n_classes=3, IMG_HEIGHT=352, IMG_WIDTH=352, IMG_CHANNELS=1):\n",
    "    inputs = Input((IMG_HEIGHT, IMG_WIDTH, IMG_CHANNELS))\n",
    "    \n",
    "    #x = ZeroPadding2D((3, 3))(inputs)\n",
    "    #x = Input(shape= input_size)\n",
    "    #print(\"x=\",x.shape)\n",
    "    # Define the converlutional block 1\n",
    "    \n",
    "    x = BatchNormalization(axis=-1)(inputs)\n",
    "    x = ZeroPadding2D(padding=(3, 3))(x)\n",
    "    x = Conv2D(64, (7, 7), strides=(2, 2),padding='valid')(x)\n",
    "    x = BatchNormalization(axis=-1)(x)\n",
    "    x = Activation('relu')(x)\n",
    "    print(\"x=\",x.shape)\n",
    "    x1 = MaxPooling2D(pool_size=(3,3),strides=(2, 2), padding='same')(x)\n",
    "    print(\"x1=\",x1.shape)\n",
    "    \n",
    "    # Define the converlutional block 2\n",
    "    x2 = conv_block(x1, neuron_num= 64, kernel_size= (3, 3), use_bias= True)\n",
    "    x2 = conv_block(x2, neuron_num= 64, kernel_size= (3, 3), use_bias= True)\n",
    "    x2 = conv_block(x2, neuron_num= 64, kernel_size= (3, 3), use_bias= True)\n",
    "    print(\"x2=\",x2.shape)\n",
    "\n",
    "    # Define the converlutional block 3\n",
    "    x3 = conv_block(x2, neuron_num= 128, kernel_size= (3, 3), use_bias= True, strides= (2, 2), with_conv_short_cut= True)\n",
    "    x3 = conv_block(x3, neuron_num= 128, kernel_size= (3, 3), use_bias= True)\n",
    "    x3 = conv_block(x3, neuron_num= 128, kernel_size= (3, 3), use_bias= True)\n",
    "    x3 = conv_block(x3, neuron_num= 128, kernel_size= (3, 3), use_bias= True)\n",
    "    print(\"x3=\",x3.shape)\n",
    "    \n",
    "    # Define the converlutional block 4\n",
    "    x4 = conv_block(x3, neuron_num= 256, kernel_size= (3, 3), use_bias= True, strides= (2, 2), with_conv_short_cut= True)\n",
    "    x4 = conv_block(x4, neuron_num= 256, kernel_size= (3, 3), use_bias= True)\n",
    "    x4 = conv_block(x4, neuron_num= 256, kernel_size= (3, 3), use_bias= True)\n",
    "    x4 = conv_block(x4, neuron_num= 256, kernel_size= (3, 3), use_bias= True)\n",
    "    x4 = conv_block(x4, neuron_num= 256, kernel_size= (3, 3), use_bias= True)\n",
    "    x4 = conv_block(x4, neuron_num= 256, kernel_size= (3, 3), use_bias= True)\n",
    "    print(\"x4=\",x4.shape)\n",
    "    \n",
    "    # Define the converltional block 5\n",
    "    x5 = conv_block(x4, neuron_num= 512, kernel_size= (3, 3), use_bias= True, strides= (2, 2), with_conv_short_cut= True)\n",
    "    x5 = conv_block(x5, neuron_num= 512, kernel_size= (3, 3), use_bias= True)\n",
    "    x5 = conv_block(x5, neuron_num= 512, kernel_size= (3, 3), use_bias= True)\n",
    "    print(\"x5=\",x5.shape)\n",
    "    #Define upsample\n",
    "    up6 = Conv2DTranspose(256,(2,2),strides=(2,2),padding='same')(x5)\n",
    "    print(\"up6=\",up6.shape)\n",
    "    #up6 = Conv2D(256, 2, activation='relu', padding = 'same')(UpSampling2D(size=(2,2))(x5))\n",
    "    merge6 = concatenate([x4,up6],axis = 3)\n",
    "    print(\"merge6=[x4,up6]\",merge6.shape)\n",
    "    conv6 = Conv2D(256,3,activation='relu', padding='same')(merge6)\n",
    "    conv6 = Conv2D(256,3,activation='relu', padding='same')(conv6)\n",
    "    print(\"conv6=\",conv6.shape)\n",
    "    \n",
    "    up7 = Conv2DTranspose(128,(2,2),strides=(2,2),padding='same')(conv6)\n",
    "    print(\"up7=\",up7.shape)\n",
    "    #up7 = Conv2D(128, 2, activation='relu', padding = 'same')(UpSampling2D(size=(2,2))(conv6))\n",
    "    merge7 = concatenate([x3,up7],axis = 3)\n",
    "    print(\"merge7=[x3,up7]\",merge7.shape)\n",
    "    conv7 = Conv2D(128,3,activation='relu', padding='same')(merge7)\n",
    "    conv7 = Conv2D(128,3,activation='relu', padding='same')(conv7)\n",
    "    print(\"conv7=\",conv7.shape)\n",
    "    \n",
    "    up8 = Conv2DTranspose(64,(2,2),strides=(2,2),padding='same')(conv7)\n",
    "    print(\"up8=\",up8.shape)\n",
    "    #up8 = Conv2D(64, 2, activation='relu', padding = 'same')(UpSampling2D(size=(2,2))(conv7))\n",
    "    merge8 = concatenate([x2,up8],axis = 3)\n",
    "    print(\"merge8=[x2,up8]\",merge8.shape)\n",
    "    conv8 = Conv2D(64,3,activation='relu', padding='same')(merge8)\n",
    "    conv8 = Conv2D(64,3,activation='relu', padding='same')(conv8)\n",
    "    print(\"conv8=\",conv8.shape)\n",
    "    \n",
    "    up9 =  Conv2DTranspose(64,(2,2),strides=(2,2),padding='same')(conv8)\n",
    "    print(\"up9=\",up9.shape)\n",
    "    merge9 = concatenate([x,up9],axis = 3)\n",
    "    print(\"merge9=[x,up9]\",merge9.shape)\n",
    "    conv9 = Conv2D(32, 3, activation='relu', padding='same')(merge9)\n",
    "    conv9 = Conv2D(32, 3, activation='relu', padding='same')(conv9)\n",
    "    print(\"conv9\", conv9.shape)\n",
    "    conv10 = Conv2D(2, 3, activation='relu', padding='same')(conv9)\n",
    "    print(\"conv10\", conv10.shape)\n",
    "    up10 =  Conv2DTranspose(64,(2,2),strides=(2,2),padding='same')(conv9)\n",
    "    print(\"up10=\",up10.shape)\n",
    "    conv10 = Conv2D(16, 3, activation='relu', padding='same')(up10)\n",
    "    conv10 = Conv2D(16, 3, activation='relu', padding='same')(conv10)\n",
    "    conv10 =outputs = Conv2D(n_classes, (1, 1), activation='softmax')(conv10)\n",
    "    print(\"conv10\", conv10.shape)\n",
    "    model = Model(inputs=inputs, outputs=conv10)\n",
    "    return model"
   ]
  },
  {
   "cell_type": "code",
   "execution_count": null,
   "metadata": {},
   "outputs": [],
   "source": [
    "from sklearn.utils import class_weight\n",
    "class_weights = class_weight.compute_class_weight('balanced',\n",
    "                                                 np.unique(train_masks_reshaped_encoded),\n",
    "                                                 train_masks_reshaped_encoded)\n",
    "print(\"Class weights are...:\", class_weights)"
   ]
  },
  {
   "cell_type": "code",
   "execution_count": null,
   "metadata": {
    "scrolled": false
   },
   "outputs": [],
   "source": [
    "\n",
    "IMG_HEIGHT = X1.shape[1]\n",
    "IMG_WIDTH  = X1.shape[2]\n",
    "IMG_CHANNELS = X1.shape[3]\n",
    "\n",
    "def get_model():\n",
    "    return unet_res(n_classes=n_classes, IMG_HEIGHT=IMG_HEIGHT, IMG_WIDTH=IMG_WIDTH, IMG_CHANNELS=IMG_CHANNELS)\n",
    "\n",
    "INIT_LR = 1e-5    # This value is specific to what model is chosen: Inception, VGG or ResNet etc.\n",
    "EPOCHS = 50\n",
    "#opt = Adam(lr=INIT_LR, decay=INIT_LR / EPOCHS)\n",
    "model = get_model()\n",
    "model.compile(optimizer='adam', loss='categorical_crossentropy', metrics=['accuracy'])\n",
    "#model.summary()\n",
    "\n",
    "#If starting with pre-trained weights. \n",
    "#model.load_weights('???.hdf5')\n",
    "\n",
    "history = model.fit(X1, y_train_cat, \n",
    "                    batch_size = 1, \n",
    "                    verbose=1, \n",
    "                    epochs=EPOCHS, \n",
    "                    validation_data=(X_test, y_test_cat), \n",
    "                    class_weight=class_weights,\n",
    "                    shuffle=False)"
   ]
  },
  {
   "cell_type": "code",
   "execution_count": 19,
   "metadata": {},
   "outputs": [],
   "source": [
    "model.save('testOriginalImg.h5')"
   ]
  },
  {
   "cell_type": "code",
   "execution_count": 20,
   "metadata": {},
   "outputs": [],
   "source": [
    "model = load_model('testOriginalImg.h5')"
   ]
  },
  {
   "cell_type": "code",
   "execution_count": null,
   "metadata": {},
   "outputs": [],
   "source": [
    "acc,test_auc = model.evaluate(X_test, y_test_cat,batch_size=1)\n",
    "print(\"Accuracy is = \", (acc * 100.0), \"%\")\n",
    "print(\"test_auc is =\", test_auc*100.0,\"%\")"
   ]
  },
  {
   "cell_type": "code",
   "execution_count": null,
   "metadata": {},
   "outputs": [],
   "source": [
    "loss = history.history['loss']\n",
    "val_loss = history.history['val_loss']\n",
    "epochs = range(1, len(loss) + 1)\n",
    "plt.plot(epochs, loss, 'y', label='Training loss')\n",
    "plt.plot(epochs, val_loss, 'r', label='Validation loss')\n",
    "plt.title('Training and validation loss')\n",
    "plt.xlabel('Epochs')\n",
    "plt.ylabel('Loss')\n",
    "plt.legend()\n",
    "plt.show()\n",
    "\n",
    "acc = history.history['accuracy']\n",
    "val_acc = history.history['val_accuracy']\n",
    "\n",
    "plt.plot(epochs, acc, 'y', label='Training Accuracy')\n",
    "plt.plot(epochs, val_acc, 'r', label='Validation Accuracy')\n",
    "plt.title('Training and validation Accuracy')\n",
    "plt.xlabel('Epochs')\n",
    "plt.ylabel('Accuracy')\n",
    "plt.legend()\n",
    "plt.show()"
   ]
  },
  {
   "cell_type": "code",
   "execution_count": null,
   "metadata": {},
   "outputs": [],
   "source": [
    "auc = history.history['auccuracy']\n",
    "train_auc = auc[49]\n",
    "print(\"train_auc is =\", train_auc*100.0,\"%\")"
   ]
  },
  {
   "cell_type": "code",
   "execution_count": null,
   "metadata": {},
   "outputs": [],
   "source": [
    "train_mAP =  train_auc/3\n",
    "test_mAP = test_auc/3\n",
    "print(\"train_mAP is =\", train_mAP*100.0,\"%\")\n",
    "print(\"test_mAP is =\", test_mAP*100.0,\"%\")"
   ]
  },
  {
   "cell_type": "code",
   "execution_count": 25,
   "metadata": {
    "scrolled": false
   },
   "outputs": [],
   "source": [
    "#model.load_weights('testOriginalImg.h5')  \n",
    "#model.load_weights('sandstone_50_epochs_catXentropy_acc_with_weights.hdf5')  \n",
    "\n",
    "#IOU\n",
    "y_pred=model.predict(X_test,batch_size=1)\n",
    "y_pred_argmax=np.argmax(y_pred, axis=3)"
   ]
  },
  {
   "cell_type": "code",
   "execution_count": null,
   "metadata": {},
   "outputs": [],
   "source": [
    "#Using built in keras function\n",
    "from keras.metrics import MeanIoU\n",
    "n_classes = 3\n",
    "IOU_keras = MeanIoU(num_classes=n_classes)  \n",
    "IOU_keras.update_state(y_test[:,:,:,0], y_pred_argmax)\n",
    "print(\"Mean IoU =\", IOU_keras.result().numpy())\n",
    "\n",
    "\n",
    "#To calculate I0U for each class...\n",
    "values = np.array(IOU_keras.get_weights()).reshape(n_classes, n_classes)\n",
    "print(values)\n",
    "#class1_IoU = values[0,0]/(values[0,0] + values[0,1] + values[0,2] + values[0,3] + values[1,0]+ values[2,0]+ values[3,0])\n",
    "#class2_IoU = values[1,1]/(values[1,1] + values[1,0] + values[1,2] + values[1,3] + values[0,1]+ values[2,1]+ values[3,1])\n",
    "#class3_IoU = values[2,2]/(values[2,2] + values[2,0] + values[2,1] + values[2,3] + values[0,2]+ values[1,2]+ values[3,2])\n",
    "#class4_IoU = values[3,3]/(values[3,3] + values[3,0] + values[3,1] + values[3,2] + values[0,3]+ values[1,3]+ values[2,3])\n",
    "\n",
    "class1_IoU = values[0,0]/(values[0,0] + values[0,1] + values[0,2] + values[1,0]+ values[2,0])\n",
    "class2_IoU = values[1,1]/(values[1,1] + values[1,0] + values[1,2] +  values[0,1]+ values[2,1])\n",
    "class3_IoU = values[2,2]/(values[2,2] + values[2,0] + values[2,1]  + values[0,2]+ values[1,2])\n",
    "#class4_IoU = values[3,3]/(values[3,3] + values[3,0] + values[3,1] + values[3,2] + values[0,3]+ values[1,3]+ values[2,3])\n",
    "\n",
    "print(\"IoU for class1 is: \", class1_IoU)\n",
    "print(\"IoU for class2 is: \", class2_IoU)\n",
    "print(\"IoU for class3 is: \", class3_IoU)\n",
    "#print(\"IoU for class4 is: \", class4_IoU)\n",
    "\n",
    "plt.imshow(train_images[0, :,:,0], cmap='gray')\n",
    "plt.imshow(train_masks[0], cmap='gray')"
   ]
  },
  {
   "cell_type": "code",
   "execution_count": null,
   "metadata": {
    "scrolled": false
   },
   "outputs": [],
   "source": [
    "#import random\n",
    "#test_img_number = random.randint(0, len(X_test)-1)\n",
    "#print(test_img_number)\n",
    "for test_img_number in range(len(X_test)):\n",
    "    test_img = X_test[test_img_number]\n",
    "    ground_truth=y_test[test_img_number]\n",
    "    test_img_norm=test_img[:,:,0][:,:,None]\n",
    "    test_img_input=np.expand_dims(test_img_norm, 0)\n",
    "    prediction = (model.predict(test_img_input))\n",
    "    predicted_img=np.argmax(prediction, axis=3)[0,:,:]\n",
    "\n",
    "\n",
    "    plt.figure(figsize=(12, 8))\n",
    "    plt.subplot(231)\n",
    "    plt.title('Testing Image')\n",
    "    plt.imshow(test_img[:,:,0], cmap='gray')\n",
    "    plt.subplot(232)\n",
    "    plt.title('Testing Label')\n",
    "    plt.imshow(ground_truth[:,:,0], cmap='jet')\n",
    "    plt.subplot(233)\n",
    "    plt.title('Prediction on test image')\n",
    "    plt.imshow(predicted_img, cmap='jet')\n",
    "    plt.show()"
   ]
  },
  {
   "cell_type": "code",
   "execution_count": null,
   "metadata": {},
   "outputs": [],
   "source": []
  }
 ],
 "metadata": {
  "kernelspec": {
   "display_name": "Python 3",
   "language": "python",
   "name": "python3"
  },
  "language_info": {
   "codemirror_mode": {
    "name": "ipython",
    "version": 3
   },
   "file_extension": ".py",
   "mimetype": "text/x-python",
   "name": "python",
   "nbconvert_exporter": "python",
   "pygments_lexer": "ipython3",
   "version": "3.8.5"
  },
  "varInspector": {
   "cols": {
    "lenName": 16,
    "lenType": 16,
    "lenVar": 40
   },
   "kernels_config": {
    "python": {
     "delete_cmd_postfix": "",
     "delete_cmd_prefix": "del ",
     "library": "var_list.py",
     "varRefreshCmd": "print(var_dic_list())"
    },
    "r": {
     "delete_cmd_postfix": ") ",
     "delete_cmd_prefix": "rm(",
     "library": "var_list.r",
     "varRefreshCmd": "cat(var_dic_list()) "
    }
   },
   "types_to_exclude": [
    "module",
    "function",
    "builtin_function_or_method",
    "instance",
    "_Feature"
   ],
   "window_display": false
  }
 },
 "nbformat": 4,
 "nbformat_minor": 2
}
