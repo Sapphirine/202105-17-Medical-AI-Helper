{
 "cells": [
  {
   "cell_type": "code",
   "execution_count": 7,
   "metadata": {},
   "outputs": [
    {
     "name": "stdout",
     "output_type": "stream",
     "text": [
      "1000\n",
      "2000\n",
      "3000\n",
      "4000\n",
      "5000\n",
      "6000\n",
      "7000\n",
      "8000\n",
      "9000\n",
      "10000\n",
      "11000\n",
      "12000\n"
     ]
    }
   ],
   "source": [
    "# This code converts a 16bit uint TIFF image (that can not be displayed by normal monitors) to a Visualizable TIFF image\n",
    "import os\n",
    "import PIL.Image as pil_image\n",
    "import io\n",
    "import numpy as np\n",
    "path='/home/gxt/study/CT/PicturesSet/selectedMerge/'\n",
    "save_path='/home/gxt/study/CT/PicturesSet/visualize/OriginalImagesOutput/'\n",
    "\n",
    "files = os.listdir(path)\n",
    "#print(files)\n",
    "count = 0\n",
    "for file in files:\n",
    "    img_path = path+file\n",
    "    with open(img_path, 'rb') as f:\n",
    "        tif = pil_image.open(io.BytesIO(f.read()))\n",
    "    array=np.array(tif)\n",
    "    max_val=np.amax(array)\n",
    "    normalized=(array/max_val)\n",
    "    im = pil_image.fromarray(normalized)\n",
    "    save_image = save_path+file\n",
    "    im.save(save_image) \n",
    "    count = count+1\n",
    "    if count % 1000 == 0:\n",
    "        print(count)"
   ]
  },
  {
   "cell_type": "code",
   "execution_count": null,
   "metadata": {},
   "outputs": [],
   "source": []
  }
 ],
 "metadata": {
  "kernelspec": {
   "display_name": "TF20PY37",
   "language": "python",
   "name": "python3"
  },
  "language_info": {
   "codemirror_mode": {
    "name": "ipython",
    "version": 3
   },
   "file_extension": ".py",
   "mimetype": "text/x-python",
   "name": "python",
   "nbconvert_exporter": "python",
   "pygments_lexer": "ipython3",
   "version": "3.7.10"
  }
 },
 "nbformat": 4,
 "nbformat_minor": 2
}
