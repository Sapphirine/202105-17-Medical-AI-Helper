{
 "cells": [
  {
   "cell_type": "markdown",
   "metadata": {},
   "source": [
    "## COVID "
   ]
  },
  {
   "cell_type": "code",
   "execution_count": 4,
   "metadata": {},
   "outputs": [
    {
     "name": "stdout",
     "output_type": "stream",
     "text": [
      "num_all_data: 2324\n"
     ]
    }
   ],
   "source": [
    "#!/usr/bin/env python \n",
    "# -*- coding:utf-8 -*-\n",
    "import os\n",
    "import random\n",
    "import shutil\n",
    "from shutil import copy2\n",
    "datadir_normal = \"/home/gxt/study/CT/dataset/normal/\"\n",
    "\n",
    "all_data = os.listdir(datadir_normal)\n",
    "num_all_data = len(all_data)\n",
    "print( \"num_all_data: \" + str(num_all_data) )\n",
    "index_list = list(range(num_all_data))\n",
    "#print(index_list)\n",
    "random.shuffle(index_list)\n",
    "num = 0\n",
    "\n",
    "trainDir = \"/home/gxt/study/CT/dataset/normalTrain/\"# train set\n",
    "if not os.path.exists(trainDir):\n",
    "    os.mkdir(trainDir)\n",
    "        \n",
    "validDir = '/home/gxt/study/CT/dataset/normalVal/'#validation set\n",
    "if not os.path.exists(validDir):\n",
    "    os.mkdir(validDir)\n",
    "        \n",
    "testDir = '/home/gxt/study/CT/dataset/normalTest/'#test set\n",
    "if not os.path.exists(testDir):\n",
    "    os.mkdir(testDir)\n",
    "        \n",
    "for i in index_list:\n",
    "    fileName = os.path.join(datadir_normal, all_data[i])\n",
    "    if num < num_all_data*0.7:\n",
    "        #print(str(fileName))\n",
    "        copy2(fileName, trainDir)\n",
    "    elif num>num_all_data*0.7 and num < num_all_data*0.8:\n",
    "        #print(str(fileName))\n",
    "        copy2(fileName, validDir)\n",
    "    else:\n",
    "        copy2(fileName, testDir)\n",
    "    num += 1\n"
   ]
  },
  {
   "cell_type": "markdown",
   "metadata": {},
   "source": [
    "## Normal "
   ]
  },
  {
   "cell_type": "code",
   "execution_count": 2,
   "metadata": {},
   "outputs": [
    {
     "name": "stdout",
     "output_type": "stream",
     "text": [
      "num_all_data: 9776\n"
     ]
    }
   ],
   "source": [
    "#!/usr/bin/env python \n",
    "# -*- coding:utf-8 -*-\n",
    "\n",
    "import os\n",
    "import random\n",
    "import shutil\n",
    "from shutil import copy2\n",
    "datadir_normal = \"/home/gxt/study/CT/dataset/normal/\"\n",
    "\n",
    "all_data = os.listdir(datadir_normal)\n",
    "num_all_data = len(all_data)\n",
    "print( \"num_all_data: \" + str(num_all_data) )\n",
    "index_list = list(range(num_all_data))\n",
    "#print(index_list)\n",
    "random.shuffle(index_list)\n",
    "num = 0\n",
    "\n",
    "trainDir = \"/home/gxt/study/CT/dataset/normalTrain/\"#training set\n",
    "if not os.path.exists(trainDir):\n",
    "    os.mkdir(trainDir)\n",
    "        \n",
    "validDir = '/home/gxt/study/CT/dataset/normalVal/'#validation set\n",
    "if not os.path.exists(validDir):\n",
    "    os.mkdir(validDir)\n",
    "        \n",
    "testDir = '/home/gxt/study/CT/dataset/normalTest/'#test set        \n",
    "if not os.path.exists(testDir):\n",
    "    os.mkdir(testDir)\n",
    "        \n",
    "for i in index_list:\n",
    "    fileName = os.path.join(datadir_normal, all_data[i])\n",
    "    if num < num_all_data*0.6:\n",
    "        #print(str(fileName))\n",
    "        copy2(fileName, trainDir)\n",
    "    elif num>num_all_data*0.6 and num < num_all_data*0.8:\n",
    "        #print(str(fileName))\n",
    "        copy2(fileName, validDir)\n",
    "    else:\n",
    "        copy2(fileName, testDir)\n",
    "    num += 1\n"
   ]
  },
  {
   "cell_type": "code",
   "execution_count": null,
   "metadata": {},
   "outputs": [],
   "source": []
  }
 ],
 "metadata": {
  "kernelspec": {
   "display_name": "Python 3",
   "language": "python",
   "name": "python3"
  },
  "language_info": {
   "codemirror_mode": {
    "name": "ipython",
    "version": 3
   },
   "file_extension": ".py",
   "mimetype": "text/x-python",
   "name": "python",
   "nbconvert_exporter": "python",
   "pygments_lexer": "ipython3",
   "version": "3.8.5"
  }
 },
 "nbformat": 4,
 "nbformat_minor": 2
}
