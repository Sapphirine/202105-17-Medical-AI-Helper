{
 "cells": [
  {
   "cell_type": "code",
   "execution_count": 3,
   "metadata": {},
   "outputs": [
    {
     "name": "stdout",
     "output_type": "stream",
     "text": [
      "Found 1598 images belonging to 1 classes.\n",
      "1598\n"
     ]
    }
   ],
   "source": [
    "from keras.preprocessing.image import ImageDataGenerator\n",
    "import os\n",
    "path = '/home/gxt/study/CT/dataset/train/COVID'  \n",
    "dst_path='/home/gxt/study/CT/covid-aug'\n",
    "imagepath = '/home/gxt/study/CT/dataset/train/COVID/covid'\n",
    "# ImageDataGenerator\n",
    "datagen = ImageDataGenerator(\n",
    " \n",
    "    rotation_range=15,\n",
    "    width_shift_range=0.02,\n",
    "    height_shift_range=0.02,\n",
    "    horizontal_flip=True,\n",
    "    vertical_flip=True\n",
    ")\n",
    " \n",
    "gen = datagen.flow_from_directory(\n",
    "    path,\n",
    "    target_size=(512, 512),\n",
    "    batch_size=6,\n",
    "    save_to_dir=dst_path,  # saving path\n",
    "    save_prefix='covid-',\n",
    "    save_format='jpg')\n",
    "num = len(os.listdir(imagepath))\n",
    "print(num)\n",
    "for i in range(num):\n",
    "    gen.next()\n"
   ]
  },
  {
   "cell_type": "code",
   "execution_count": 4,
   "metadata": {},
   "outputs": [
    {
     "name": "stdout",
     "output_type": "stream",
     "text": [
      "Found 1627 images belonging to 1 classes.\n",
      "1627\n"
     ]
    }
   ],
   "source": [
    "from keras.preprocessing.image import ImageDataGenerator\n",
    "import os\n",
    "path = '/home/gxt/study/CT/dataset/train/NORMAL'  \n",
    "dst_path='/home/gxt/study/CT/normal-aug'\n",
    "imagepath = '/home/gxt/study/CT/dataset/train/NORMAL/normal'\n",
    "# ImageDataGenerator\n",
    "datagen = ImageDataGenerator(\n",
    " \n",
    "    rotation_range=15,\n",
    "    width_shift_range=0.02,\n",
    "    height_shift_range=0.02,\n",
    "    horizontal_flip=True,\n",
    "    vertical_flip=True\n",
    ")\n",
    " \n",
    "gen = datagen.flow_from_directory(\n",
    "    path,\n",
    "    target_size=(512, 512),\n",
    "    batch_size=6,\n",
    "    save_to_dir=dst_path,  # saving path\n",
    "    save_prefix='normal-',\n",
    "    save_format='jpg')\n",
    "num = len(os.listdir(imagepath))\n",
    "print(num)\n",
    "for i in range(num):\n",
    "    gen.next()\n"
   ]
  },
  {
   "cell_type": "code",
   "execution_count": null,
   "metadata": {},
   "outputs": [],
   "source": []
  }
 ],
 "metadata": {
  "kernelspec": {
   "display_name": "Python 3",
   "language": "python",
   "name": "python3"
  },
  "language_info": {
   "codemirror_mode": {
    "name": "ipython",
    "version": 3
   },
   "file_extension": ".py",
   "mimetype": "text/x-python",
   "name": "python",
   "nbconvert_exporter": "python",
   "pygments_lexer": "ipython3",
   "version": "3.8.5"
  }
 },
 "nbformat": 4,
 "nbformat_minor": 2
}
