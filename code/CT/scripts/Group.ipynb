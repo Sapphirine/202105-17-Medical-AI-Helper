{
 "cells": [
  {
   "cell_type": "markdown",
   "metadata": {},
   "source": [
    "## save one patient's image in one file"
   ]
  },
  {
   "cell_type": "code",
   "execution_count": 1,
   "metadata": {},
   "outputs": [],
   "source": [
    "import os\n",
    "import numpy as np\n",
    "import cv2\n",
    "import shutil"
   ]
  },
  {
   "cell_type": "code",
   "execution_count": 26,
   "metadata": {},
   "outputs": [],
   "source": [
    "def findName(pathName):\n",
    "    for i in range(len(pathName)):\n",
    "        if pathName[i]=='_':\n",
    "            j = i+1\n",
    "            while pathName[j] != '_':\n",
    "                j=j+1\n",
    "            #print(pathName[i+1:j])\n",
    "            return pathName[i+1:j]\n"
   ]
  },
  {
   "cell_type": "code",
   "execution_count": 50,
   "metadata": {
    "scrolled": false
   },
   "outputs": [
    {
     "name": "stdout",
     "output_type": "stream",
     "text": [
      "1000\n",
      "2000\n",
      "3000\n",
      "4000\n",
      "5000\n",
      "6000\n",
      "7000\n",
      "8000\n",
      "9000\n",
      "10000\n",
      "11000\n",
      "12000\n"
     ]
    }
   ],
   "source": [
    "count = 0\n",
    "for parent,dirnames,filenames in os.walk('/home/gxt/study/CT/OriginalImages'): #Take the addresses of the TIFF files for each patient in the dataset\n",
    "    for filename in filenames: \n",
    "        file_path = os.path.join(parent,filename)\n",
    "        #print(file_path)\n",
    "        fileDir = '/home/gxt/study/CT/Divide'+'/'+ findName(filename)+'/'\n",
    "        #print(fileDir)\n",
    "        filepath =fileDir +filename\n",
    "        if not os.path.exists(fileDir):\n",
    "            os.makedirs(fileDir)\n",
    "        shutil.copy2(file_path, filepath)\n",
    "        count = count+1\n",
    "        if count % 1000 == 0:\n",
    "            print(count)"
   ]
  },
  {
   "cell_type": "markdown",
   "metadata": {},
   "source": [
    "## Recombine the images divided by patients"
   ]
  },
  {
   "cell_type": "code",
   "execution_count": 55,
   "metadata": {},
   "outputs": [
    {
     "name": "stdout",
     "output_type": "stream",
     "text": [
      "1000\n",
      "2000\n",
      "3000\n",
      "4000\n",
      "5000\n",
      "6000\n",
      "7000\n",
      "8000\n",
      "9000\n",
      "10000\n",
      "11000\n",
      "12000\n"
     ]
    }
   ],
   "source": [
    "count = 0\n",
    "outpath = '/home/gxt/study/CT/PicturesSet/selectedMerge/'\n",
    "for parent,dirnames,filenames in os.walk('/home/gxt/study/CT/PicturesSet/DivideByName'): #Take the addresses of the TIFF files for each patient in the dataset\n",
    "    for filename in filenames: \n",
    "        file_path = os.path.join(parent,filename)\n",
    "        #print(filename)\n",
    "        #fileDir = '/home/gxt/study/CT/Divide'+'/'+ findName(filename)+'/'\n",
    "        #print(fileDir)\n",
    "        filepath =outpath +filename\n",
    "        #if not os.path.exists(fileDir):\n",
    "            #os.makedirs(fileDir)\n",
    "        #print(filepath)\n",
    "        shutil.copy2(file_path, filepath)\n",
    "        count = count+1\n",
    "        if count % 1000 == 0:\n",
    "            print(count)"
   ]
  },
  {
   "cell_type": "code",
   "execution_count": null,
   "metadata": {},
   "outputs": [],
   "source": []
  }
 ],
 "metadata": {
  "kernelspec": {
   "display_name": "Python 3",
   "language": "python",
   "name": "python3"
  },
  "language_info": {
   "codemirror_mode": {
    "name": "ipython",
    "version": 3
   },
   "file_extension": ".py",
   "mimetype": "text/x-python",
   "name": "python",
   "nbconvert_exporter": "python",
   "pygments_lexer": "ipython3",
   "version": "3.8.5"
  }
 },
 "nbformat": 4,
 "nbformat_minor": 2
}
