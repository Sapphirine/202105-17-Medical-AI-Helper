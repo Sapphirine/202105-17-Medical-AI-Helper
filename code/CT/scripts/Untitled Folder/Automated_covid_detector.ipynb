{
 "cells": [
  {
   "cell_type": "markdown",
   "metadata": {
    "colab_type": "text",
    "id": "view-in-github"
   },
   "source": [
    "<a href=\"https://colab.research.google.com/github/mr7495/COVID-CT-Code/blob/master/Automated_covid_detector.ipynb\" target=\"_parent\"><img src=\"https://colab.research.google.com/assets/colab-badge.svg\" alt=\"Open In Colab\"/></a>"
   ]
  },
  {
   "cell_type": "code",
   "execution_count": 0,
   "metadata": {
    "colab": {},
    "colab_type": "code",
    "id": "Cq6NBm56I46q"
   },
   "outputs": [],
   "source": [
    "# idea from https://github.com/mr7495/COVID-CT-Code\n",
    "# developer email : mr7495@yahoo.com"
   ]
  },
  {
   "cell_type": "code",
   "execution_count": 0,
   "metadata": {
    "colab": {},
    "colab_type": "code",
    "id": "6JmhSAzXPUaX"
   },
   "outputs": [],
   "source": [
    "!nvidia-smi #show the allocated GPU"
   ]
  },
  {
   "cell_type": "code",
   "execution_count": 0,
   "metadata": {
    "colab": {},
    "colab_type": "code",
    "id": "5yqhPi-FS60r"
   },
   "outputs": [],
   "source": [
    "#Connect your Google Drive \n",
    "from google.colab import drive\n",
    "drive.mount('/content/drive')"
   ]
  },
  {
   "cell_type": "code",
   "execution_count": 0,
   "metadata": {
    "colab": {},
    "colab_type": "code",
    "id": "7UAp6XlqPeou"
   },
   "outputs": [],
   "source": [
    "#upgrade and install essential libraries\n",
    "#Install essential libraries\n",
    "!pip install git+https://github.com/mr7495/RetinaNet"
   ]
  },
  {
   "cell_type": "code",
   "execution_count": 0,
   "metadata": {
    "colab": {},
    "colab_type": "code",
    "id": "zw0BhQ7nPihU"
   },
   "outputs": [],
   "source": [
    "import keras\n",
    "import numpy as np\n",
    "import cv2\n",
    "import os\n",
    "import random\n",
    "import shutil\n",
    "import pandas as pd\n",
    "import csv\n",
    "import zipfile\n",
    "from keras import optimizers\n",
    "from keras.models import Sequential,Model\n",
    "from keras.layers import Dropout, Flatten, Dense,Input\n",
    "from keras.applications.resnet_v2 import ResNet50V2\n",
    "from keras.applications.xception import Xception\n",
    "from keras.applications.resnet50 import ResNet50\n",
    "from keras.applications.vgg16 import VGG16\n",
    "from keras.callbacks import ModelCheckpoint\n",
    "from keras.applications.imagenet_utils import preprocess_input\n",
    "from keras import backend as K\n",
    "from keras.preprocessing.image import ImageDataGenerator\n",
    "from keras.initializers import RandomNormal\n",
    "import keras.backend as k\n",
    "from sklearn.utils import shuffle\n",
    "import io\n",
    "from PIL import Image as pil_image\n",
    "from keras_retinanet import layers\n",
    "import keras.backend as k\n",
    "import keras_retinanet"
   ]
  },
  {
   "cell_type": "code",
   "execution_count": 0,
   "metadata": {
    "colab": {},
    "colab_type": "code",
    "id": "89hm-PDB0SSb"
   },
   "outputs": [],
   "source": [
    "shape=(512,512,1) #shape of the dataset images (in TIFF format)"
   ]
  },
  {
   "cell_type": "code",
   "execution_count": 0,
   "metadata": {
    "colab": {},
    "colab_type": "code",
    "id": "3C8WeNCTRSIi"
   },
   "outputs": [],
   "source": [
    "#Run the CT selection Algorithm\n",
    "!mkdir 'selected_data'\n",
    "data_path='path to the folder that contained the patient CT scans images'\n",
    "data_files=[]\n",
    "for r,d,f in os.walk(data_path): #add the path of the CT scan images of the patient\n",
    "  for file in f:\n",
    "    if '.tif' in file:\n",
    "      data_files.append(os.path.join(r,file)) #get the images path from the data_folder\n",
    "\n",
    "selected=[]          \n",
    "zero=[]\n",
    "names=[]\n",
    "for img_path in data_files:\n",
    "    names.append(img_path)\n",
    "    pixel=cv2.imread(img_path,cv2.IMREAD_UNCHANGED ) #read the TIFF file\n",
    "    sp=pixel[240:340,120:370] #Crop the region\n",
    "    counted_zero=0\n",
    "    for i in np.reshape(sp,(sp.shape[0]*sp.shape[1],1)):\n",
    "        if i<300: #count the number of pixel values in the region less than 300\n",
    "            counted_zero+=1\n",
    "    zero.append(counted_zero) #add the number of dark pixels of the image to the list\n",
    "min_zero=min(zero)\n",
    "max_zero=max(zero)\n",
    "threshold=(max_zero-min_zero)/1.5 #Set the threshold\n",
    "indices=np.where(np.array(zero)>threshold) #Find the images that have more dark pixels in the region than the calculated threshold\n",
    "selected_names=np.array(names)[indices] #Selected images\n",
    "\n",
    "\n",
    "for selected_img in selected_names:\n",
    "    shutil.copy(selected_img,'selected_data')"
   ]
  },
  {
   "cell_type": "code",
   "execution_count": 0,
   "metadata": {
    "colab": {},
    "colab_type": "code",
    "id": "rRXGewOAMJ1q"
   },
   "outputs": [],
   "source": [
    "#The fully automated patient classification network\n",
    "Path='Path to the trained models' # You can use this trained model : 'drive/My Drive/COVID-CTset/trained_networks/FPN-fold1.hdf5'\n",
    "selected_imgs_path=[]\n",
    "for r,d,f in os.walk('selected_data'): # add the path of the selected images\n",
    "  for file in f:\n",
    "    if '.tif' in file:\n",
    "      selected_imgs_path.append(os.path.join(r,file)) #get the images path from the data_folder\n",
    "\n",
    "k.clear_session() #clear keras backend\n",
    "custom_object={'UpsampleLike': keras_retinanet.layers._misc.UpsampleLike} #Upsampling layer that was used in feature pyramid network\n",
    "net=keras.models.load_model(Path, custom_objects=custom_object)\n",
    "\n",
    "\n",
    "covid_label=0 # index of COViD-19 class \n",
    "normal_label=1  # index of normal class \n",
    "normal_predicted=0\n",
    "covid_predicted=0\n",
    "for img_name in selected_imgs_path: #read images\n",
    "  img=cv2.imread(img_name,cv2.IMREAD_UNCHANGED)\n",
    "  pred_ind=np.argmax(net.predict(np.expand_dims(np.expand_dims(img,axis=0),axis=3))[0]) #predicted label\n",
    "  if pred_ind==normal_label:\n",
    "    normal_predicted+=1\n",
    "  else:\n",
    "    covid_predicted+=1\n",
    "\n",
    "all_imgs_num=len(selected_imgs_path) \n",
    "if covid_predicted>=0.1*all_imgs_num: #if at least 10% of a patient CT scans be classified as covid\n",
    "  print('The patient is identified as infected to COVID-19')\n",
    "else:\n",
    "  print('The patient is identified as normal')"
   ]
  }
 ],
 "metadata": {
  "accelerator": "GPU",
  "colab": {
   "collapsed_sections": [],
   "include_colab_link": true,
   "name": "Automated_covid_detector.ipynb",
   "provenance": []
  },
  "kernelspec": {
   "display_name": "Python 3",
   "language": "python",
   "name": "python3"
  },
  "language_info": {
   "codemirror_mode": {
    "name": "ipython",
    "version": 3
   },
   "file_extension": ".py",
   "mimetype": "text/x-python",
   "name": "python",
   "nbconvert_exporter": "python",
   "pygments_lexer": "ipython3",
   "version": "3.7.9"
  },
  "varInspector": {
   "cols": {
    "lenName": 16,
    "lenType": 16,
    "lenVar": 40
   },
   "kernels_config": {
    "python": {
     "delete_cmd_postfix": "",
     "delete_cmd_prefix": "del ",
     "library": "var_list.py",
     "varRefreshCmd": "print(var_dic_list())"
    },
    "r": {
     "delete_cmd_postfix": ") ",
     "delete_cmd_prefix": "rm(",
     "library": "var_list.r",
     "varRefreshCmd": "cat(var_dic_list()) "
    }
   },
   "types_to_exclude": [
    "module",
    "function",
    "builtin_function_or_method",
    "instance",
    "_Feature"
   ],
   "window_display": false
  }
 },
 "nbformat": 4,
 "nbformat_minor": 1
}
