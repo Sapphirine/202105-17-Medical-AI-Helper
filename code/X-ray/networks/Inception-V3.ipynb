{
 "cells": [
  {
   "cell_type": "markdown",
   "id": "mysterious-weight",
   "metadata": {},
   "source": [
    "# X-ray Inception-V3"
   ]
  },
  {
   "cell_type": "markdown",
   "id": "understood-strain",
   "metadata": {},
   "source": [
    "## Prepare dataset "
   ]
  },
  {
   "cell_type": "code",
   "execution_count": 1,
   "id": "professional-assistant",
   "metadata": {},
   "outputs": [],
   "source": [
    "import pandas as pd\n",
    "import numpy as np\n",
    "from tensorflow.compat.v1 import ConfigProto\n",
    "from tensorflow.compat.v1 import InteractiveSession\n",
    "from tensorflow.keras.preprocessing.image import ImageDataGenerator\n",
    "config = ConfigProto()\n",
    "config.gpu_options.allow_growth = True\n",
    "session = InteractiveSession(config=config)\n"
   ]
  },
  {
   "cell_type": "code",
   "execution_count": null,
   "id": "sixth-blogger",
   "metadata": {
    "scrolled": true
   },
   "outputs": [],
   "source": [
    "train_datagen = ImageDataGenerator(rescale=1./255)\n",
    "val_datagen = ImageDataGenerator(rescale=1./255)\n",
    "test_datagen = ImageDataGenerator(rescale=1./255)\n",
    "train_generator = train_datagen.flow_from_directory(r'/home/gxt/study/chestX-ray/3-10New/dataset/X-ray/Train-Dataset/train', \n",
    "                                                   target_size = (224, 224),\n",
    "                                                   color_mode = 'rgb',\n",
    "                                                   batch_size = 32,\n",
    "                                                   class_mode = 'categorical',\n",
    "                                                   shuffle = True)\n",
    "val_generator = val_datagen.flow_from_directory(r'/home/gxt/study/chestX-ray/3-10New/dataset/X-ray/Train-Dataset/val', \n",
    "                                                   target_size = (224, 224),\n",
    "                                                   color_mode = 'rgb',\n",
    "                                                   batch_size = 32,\n",
    "                                                   class_mode = 'categorical',\n",
    "                                                   shuffle = True)\n",
    "\n",
    "test_generator = test_datagen.flow_from_directory(r'/home/gxt/study/chestX-ray/3-10New/dataset/X-ray/Train-Dataset/test', \n",
    "                                                   target_size = (224, 224),\n",
    "                                                   color_mode = 'rgb',\n",
    "                                                   batch_size = 32,\n",
    "                                                   class_mode = 'categorical',\n",
    "                                                   shuffle = False)"
   ]
  },
  {
   "cell_type": "markdown",
   "id": "accepted-palestinian",
   "metadata": {},
   "source": [
    "## Prepare Models "
   ]
  },
  {
   "cell_type": "code",
   "execution_count": 2,
   "id": "unsigned-fleet",
   "metadata": {},
   "outputs": [],
   "source": [
    "#from tensorflow.keras.applications.inception_v3 import InceptionV3\n",
    "# import the necessary packages\n",
    "from tensorflow.keras.layers import AveragePooling2D, Dropout, Flatten, Dense, Input\n",
    "from tensorflow.keras.models import Model, load_model\n",
    "from tensorflow.keras.optimizers import Adam\n",
    "from tensorflow.keras.utils import to_categorical\n",
    "from tensorflow.keras import optimizers, models, layers\n",
    "from tensorflow.keras.applications.inception_v3 import InceptionV3\n"
   ]
  },
  {
   "cell_type": "code",
   "execution_count": 46,
   "id": "upset-validity",
   "metadata": {},
   "outputs": [],
   "source": [
    "#Add on a couple of custom CNN layers on top of the Inception V3 model. \n",
    "baseModel = InceptionV3(weights=\"imagenet\", include_top=False, input_tensor=Input(shape=(224, 224, 3)))\n",
    "headModel = baseModel.output\n",
    "headModel = AveragePooling2D(pool_size=(4, 4))(headModel)\n",
    "headModel = Flatten(name=\"flatten\")(headModel)\n",
    "headModel = Dense(64, activation=\"relu\")(headModel)\n",
    "headModel = Dropout(0.3)(headModel)\n",
    "headModel = Dense(3, activation=\"softmax\")(headModel)\n",
    "\n",
    "# Compose the final model\n",
    "model = Model(inputs=baseModel.input, outputs=headModel)\n",
    "#for layer in baseModel.layers:\n",
    "    #layer.trainable = False"
   ]
  },
  {
   "cell_type": "code",
   "execution_count": null,
   "id": "turkish-family",
   "metadata": {
    "scrolled": true
   },
   "outputs": [],
   "source": [
    "model.summary()"
   ]
  },
  {
   "cell_type": "code",
   "execution_count": 48,
   "id": "super-constraint",
   "metadata": {},
   "outputs": [],
   "source": [
    "INIT_LR = 1e-5    # This value is specific to what model is chosen: Inception, VGG or ResNet etc.\n",
    "EPOCHS = 10\n",
    "#BS = 8"
   ]
  },
  {
   "cell_type": "code",
   "execution_count": null,
   "id": "illegal-final",
   "metadata": {},
   "outputs": [],
   "source": [
    "from keras.callbacks import EarlyStopping\n",
    "early_stopping = EarlyStopping(monitor='val_loss', patience=6, verbose=2)\n",
    "\n",
    "print(\"Compiling model...\")\n",
    "opt = Adam(lr=INIT_LR, decay=INIT_LR / EPOCHS)\n",
    "model.compile(loss=\"categorical_crossentropy\", optimizer=opt, metrics=[\"accuracy\"])\n",
    "# train the full model, since we unfroze the pre-trained weights above\n",
    "print(\"Training the full stack model...\")\n",
    "H = model.fit_generator(generator = train_generator, steps_per_epoch=100,validation_data = val_generator, epochs = EPOCHS)"
   ]
  },
  {
   "cell_type": "markdown",
   "id": "painful-hazard",
   "metadata": {},
   "source": [
    "## Performance "
   ]
  },
  {
   "cell_type": "code",
   "execution_count": null,
   "id": "aerial-politics",
   "metadata": {},
   "outputs": [],
   "source": [
    "Testresults = model.evaluate(test_generator)\n",
    "print(\"test loss, test acc:\", Testresults)"
   ]
  },
  {
   "cell_type": "code",
   "execution_count": null,
   "id": "opening-montana",
   "metadata": {},
   "outputs": [],
   "source": [
    "from sklearn.metrics import classification_report, confusion_matrix\n",
    "target_names=[]\n",
    "print(test_generator.classes);\n",
    "for key in test_generator.class_indices:\n",
    "    target_names.append(key)\n",
    "#print(target_names)    \n",
    "Y_pred = model.predict(test_generator)\n",
    "#print(Y_pred)\n",
    "y_pred = np.argmax(Y_pred,axis=1)\n",
    "print(y_pred)\n",
    "#print(confusion_matrix(val_generator.classes, y_pred))\n",
    "#print('Classification Report')\n",
    "print(classification_report(test_generator.classes, y_pred, target_names=target_names))"
   ]
  },
  {
   "cell_type": "markdown",
   "id": "first-applicant",
   "metadata": {},
   "source": [
    "## Visualize Model "
   ]
  },
  {
   "cell_type": "code",
   "execution_count": 10,
   "id": "mature-chapel",
   "metadata": {},
   "outputs": [],
   "source": [
    "from sklearn.preprocessing import LabelEncoder, OneHotEncoder\n",
    "from sklearn.model_selection import train_test_split\n",
    "from sklearn.metrics import classification_report, confusion_matrix\n",
    "from imutils import paths\n",
    "import matplotlib.pyplot as plt\n",
    "import numpy as np\n",
    "import cv2\n",
    "import os\n",
    "from tensorflow.keras.utils import to_categorical"
   ]
  },
  {
   "cell_type": "code",
   "execution_count": null,
   "id": "authentic-regard",
   "metadata": {},
   "outputs": [],
   "source": [
    "# show the confusion matrix, accuracy, sensitivity, and specificity\n",
    "\n",
    "\n",
    "# plot the training loss and accuracy\n",
    "N = EPOCHS \n",
    "plt.style.use(\"ggplot\")\n",
    "plt.figure()\n",
    "plt.plot(np.arange(0, N), H.history[\"loss\"], label=\"train_loss\")\n",
    "#plt.plot(np.arange(0, N), H.history[\"val_loss\"], label=\"val_loss\")\n",
    "plt.plot(np.arange(0, N), H.history[\"accuracy\"], label=\"train_acc\")\n",
    "#plt.plot(np.arange(0, N), H.history[\"val_accuracy\"], label=\"val_acc\")\n",
    "plt.title(\"Training Loss and Accuracy on COVID-19 Dataset\")\n",
    "plt.xlabel(\"Epoch #\")\n",
    "plt.ylabel(\"Loss/Accuracy\")\n",
    "plt.legend(loc=\"lower left\")"
   ]
  },
  {
   "cell_type": "markdown",
   "id": "considerable-reference",
   "metadata": {},
   "source": [
    "## Save Model "
   ]
  },
  {
   "cell_type": "code",
   "execution_count": 33,
   "id": "hundred-allen",
   "metadata": {},
   "outputs": [],
   "source": [
    "model.save('/home/gxt/study/chestX-ray/3-10New/models/Inception-V3.h5')"
   ]
  },
  {
   "cell_type": "code",
   "execution_count": 1,
   "id": "recreational-christmas",
   "metadata": {},
   "outputs": [],
   "source": [
    "from tensorflow.keras.models import Model, load_model\n",
    "model = load_model('/home/gxt/study/chestX-ray/3-10New/models/Inception-V3.h5')"
   ]
  },
  {
   "cell_type": "code",
   "execution_count": null,
   "id": "cleared-tunisia",
   "metadata": {},
   "outputs": [],
   "source": [
    "model.summary()"
   ]
  },
  {
   "cell_type": "markdown",
   "id": "mechanical-casino",
   "metadata": {},
   "source": [
    "## Heat Map"
   ]
  },
  {
   "cell_type": "code",
   "execution_count": null,
   "id": "artificial-basketball",
   "metadata": {},
   "outputs": [],
   "source": [
    "import cv2\n",
    "import tensorflow as tf\n",
    "import numpy as np\n",
    "from matplotlib import pyplot as plt\n",
    "IMAGE_PATH = r'/home/gxt/study/chestX-ray/3-10New/dataset/X-ray/Train-Dataset/val/normal/IM-0149-0001.jpeg'\n",
    "LAYER_NAME = 'conv2d_98'\n",
    "CLASS_INDEX = 1\n",
    "img = tensorflow.keras.preprocessing.image.load_img(IMAGE_PATH, target_size=(224, 224))\n",
    "img = tensorflow.keras.preprocessing.image.img_to_array(img)\n",
    "\n",
    "# Load initial model\n",
    "model = model\n",
    "\n",
    "# Create a graph that outputs target convolution and output\n",
    "grad_model = tensorflow.keras.models.Model([model.inputs], [model.get_layer(LAYER_NAME).output, model.output])\n",
    "\n",
    "# Get the score for target class\n",
    "with tf.GradientTape() as tape:\n",
    "    conv_outputs, predictions = grad_model(np.array([img]))\n",
    "    loss = predictions[:, CLASS_INDEX]\n",
    "\n",
    "# Extract filters and gradients\n",
    "output = conv_outputs[0]\n",
    "grads = tape.gradient(loss, conv_outputs)[0]\n",
    "#print(grads)\n",
    "# Average gradients spatially\n",
    "weights = tf.reduce_mean(grads, axis=(0, 1))\n",
    "\n",
    "# Build a ponderated map of filters according to gradients importance\n",
    "cam = np.ones(output.shape[0:2], dtype=np.float32)\n",
    "\n",
    "for index, w in enumerate(weights):\n",
    "    cam += w * output[:, :, index]\n",
    "\n",
    "# Heatmap visualization\n",
    "cam = cv2.resize(cam.numpy(), (224, 224))\n",
    "cam = np.maximum(cam, 0)\n",
    "heatmap = (cam - cam.min()) / (cam.max() - cam.min())\n",
    "print(heatmap)\n",
    "cam = cv2.applyColorMap(np.uint8(255*heatmap), cv2.COLORMAP_JET)\n",
    "output_image = cv2.addWeighted(cv2.cvtColor(img.astype('uint8'), cv2.COLOR_RGB2BGR), 0.5, cam, 1, 0)\n",
    "plt.imshow(output_image, cmap='rainbow')"
   ]
  },
  {
   "cell_type": "code",
   "execution_count": null,
   "id": "everyday-thriller",
   "metadata": {},
   "outputs": [],
   "source": []
  }
 ],
 "metadata": {
  "kernelspec": {
   "display_name": "Python 3",
   "language": "python",
   "name": "python3"
  },
  "language_info": {
   "codemirror_mode": {
    "name": "ipython",
    "version": 3
   },
   "file_extension": ".py",
   "mimetype": "text/x-python",
   "name": "python",
   "nbconvert_exporter": "python",
   "pygments_lexer": "ipython3",
   "version": "3.8.5"
  },
  "varInspector": {
   "cols": {
    "lenName": 16,
    "lenType": 16,
    "lenVar": 40
   },
   "kernels_config": {
    "python": {
     "delete_cmd_postfix": "",
     "delete_cmd_prefix": "del ",
     "library": "var_list.py",
     "varRefreshCmd": "print(var_dic_list())"
    },
    "r": {
     "delete_cmd_postfix": ") ",
     "delete_cmd_prefix": "rm(",
     "library": "var_list.r",
     "varRefreshCmd": "cat(var_dic_list()) "
    }
   },
   "types_to_exclude": [
    "module",
    "function",
    "builtin_function_or_method",
    "instance",
    "_Feature"
   ],
   "window_display": false
  }
 },
 "nbformat": 4,
 "nbformat_minor": 5
}
