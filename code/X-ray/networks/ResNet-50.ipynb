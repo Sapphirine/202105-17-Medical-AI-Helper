{
 "cells": [
  {
   "cell_type": "markdown",
   "metadata": {},
   "source": [
    "# X-ray ResNet-50"
   ]
  },
  {
   "cell_type": "markdown",
   "metadata": {},
   "source": [
    "## Create dataset "
   ]
  },
  {
   "cell_type": "code",
   "execution_count": 1,
   "metadata": {},
   "outputs": [
    {
     "name": "stderr",
     "output_type": "stream",
     "text": [
      "Using TensorFlow backend.\n"
     ]
    }
   ],
   "source": [
    "import pandas as pd\n",
    "import numpy as np\n",
    "from keras.applications.resnet50 import preprocess_input\n",
    "\n",
    "from tensorflow.compat.v1 import ConfigProto\n",
    "from tensorflow.compat.v1 import InteractiveSession\n",
    "from tensorflow.keras.preprocessing.image import ImageDataGenerator\n",
    "config = ConfigProto()\n",
    "config.gpu_options.allow_growth = True\n",
    "session = InteractiveSession(config=config)\n"
   ]
  },
  {
   "cell_type": "code",
   "execution_count": null,
   "metadata": {},
   "outputs": [],
   "source": [
    "from tensorflow.keras.preprocessing.image import ImageDataGenerator\n",
    "from keras.applications.resnet50 import preprocess_input\n",
    "train_datagen = ImageDataGenerator(preprocessing_function = preprocess_input)\n",
    "test_datagen = ImageDataGenerator(preprocessing_function = preprocess_input)\n",
    "val_datagen = ImageDataGenerator(preprocessing_function = preprocess_input)\n",
    "\n",
    "train_generator = train_datagen.flow_from_directory(r'/home/gxt/study/chestX-ray/3-10New/dataset/X-ray/Train-Dataset/train', \n",
    "                                                   target_size = (224, 224),\n",
    "                                                   color_mode = 'rgb',\n",
    "                                                   batch_size = 32,\n",
    "                                                   class_mode = 'categorical',\n",
    "                                                   shuffle = True)\n",
    "val_generator = val_datagen.flow_from_directory(r'/home/gxt/study/chestX-ray/3-10New/dataset/X-ray/Train-Dataset/val', \n",
    "                                                   target_size = (224, 224),\n",
    "                                                   color_mode = 'rgb',\n",
    "                                                   batch_size = 32,\n",
    "                                                   class_mode = 'categorical',\n",
    "                                                   shuffle = True)\n",
    "\n",
    "test_generator = test_datagen.flow_from_directory(r'/home/gxt/study/chestX-ray/3-10New/dataset/X-ray/Train-Dataset/test', \n",
    "                                                   target_size = (224, 224),\n",
    "                                                   color_mode = 'rgb',\n",
    "                                                   batch_size = 32,\n",
    "                                                   class_mode = 'categorical',\n",
    "                                                   shuffle = False)"
   ]
  },
  {
   "cell_type": "code",
   "execution_count": 23,
   "metadata": {},
   "outputs": [
    {
     "name": "stdout",
     "output_type": "stream",
     "text": [
      "{'covid': 0, 'normal': 1, 'pneumo': 2}\n"
     ]
    }
   ],
   "source": [
    "print(train_generator.class_indices)"
   ]
  },
  {
   "cell_type": "markdown",
   "metadata": {},
   "source": [
    "## Load Model "
   ]
  },
  {
   "cell_type": "code",
   "execution_count": 3,
   "metadata": {},
   "outputs": [],
   "source": [
    "#from tensorflow.keras.applications.inception_v3 import InceptionV3\n",
    "# import the necessary packages\n",
    "from tensorflow.keras.layers import AveragePooling2D, Dropout, Flatten, Dense, Input\n",
    "from tensorflow.keras.models import Model, load_model\n",
    "from tensorflow.keras.optimizers import Adam\n",
    "from tensorflow.keras.utils import to_categorical\n",
    "from tensorflow.keras import optimizers, models, layers\n",
    "#from tensorflow.keras.applications.inception_v3 import InceptionV3\n",
    "from tensorflow.keras.applications.resnet50 import ResNet50\n"
   ]
  },
  {
   "cell_type": "code",
   "execution_count": 4,
   "metadata": {
    "scrolled": false
   },
   "outputs": [],
   "source": [
    "#Add on a couple of custom CNN layers on top of the Inception V3 model. \n",
    "baseModel = ResNet50(weights=\"imagenet\", include_top=False, input_tensor=Input(shape=(224, 224, 3)))\n",
    "headModel = baseModel.output\n",
    "headModel = AveragePooling2D(pool_size=(4, 4))(headModel)\n",
    "headModel = Flatten(name=\"flatten\")(headModel)\n",
    "headModel = Dense(64, activation=\"relu\")(headModel)\n",
    "headModel = Dropout(0.5)(headModel)\n",
    "headModel = Dense(3, activation=\"softmax\")(headModel)\n",
    "\n",
    "# Compose the final model\n",
    "model = Model(inputs=baseModel.input, outputs=headModel)\n",
    "#for layer in baseModel.layers:\n",
    "    #layer.trainable = False"
   ]
  },
  {
   "cell_type": "code",
   "execution_count": 5,
   "metadata": {},
   "outputs": [],
   "source": [
    "INIT_LR = 1e-5    # This value is specific to what model is chosen: Inception, VGG or ResNet etc.\n",
    "EPOCHS = 50 \n",
    "#BS = 8"
   ]
  },
  {
   "cell_type": "code",
   "execution_count": null,
   "metadata": {},
   "outputs": [],
   "source": [
    "from keras.callbacks import EarlyStopping\n",
    "early_stopping = EarlyStopping(monitor='val_loss', patience=4, verbose=2)\n",
    "print(\"Compiling model...\")\n",
    "opt = Adam(lr=INIT_LR, decay=INIT_LR / EPOCHS)\n",
    "model.compile(loss=\"categorical_crossentropy\", optimizer=opt, metrics=[\"accuracy\"])\n",
    "# train the full model, since we unfroze the pre-trained weights above\n",
    "print(\"Training the full stack model...\")\n",
    "H = model.fit_generator(generator = train_generator, steps_per_epoch=100,validation_data = val_generator, epochs = EPOCHS)"
   ]
  },
  {
   "cell_type": "code",
   "execution_count": null,
   "metadata": {},
   "outputs": [],
   "source": [
    "Testresults = model.evaluate(test_generator)\n",
    "print(\"test loss, test acc:\", Testresults)"
   ]
  },
  {
   "cell_type": "code",
   "execution_count": null,
   "metadata": {},
   "outputs": [],
   "source": [
    "from sklearn.metrics import classification_report, confusion_matrix\n",
    "target_names=[]\n",
    "print(test_generator.classes);\n",
    "for key in test_generator.class_indices:\n",
    "    target_names.append(key)\n",
    "#print(target_names)    \n",
    "Y_pred = model.predict(test_generator)\n",
    "#print(Y_pred)\n",
    "y_pred = np.argmax(Y_pred,axis=1)\n",
    "print(y_pred)\n",
    "#print(confusion_matrix(val_generator.classes, y_pred))\n",
    "#print('Classification Report')\n",
    "print(classification_report(test_generator.classes, y_pred, target_names=target_names))"
   ]
  },
  {
   "cell_type": "code",
   "execution_count": 9,
   "metadata": {},
   "outputs": [],
   "source": [
    "from sklearn.preprocessing import LabelEncoder, OneHotEncoder\n",
    "from sklearn.model_selection import train_test_split\n",
    "from sklearn.metrics import classification_report, confusion_matrix\n",
    "from imutils import paths\n",
    "import matplotlib.pyplot as plt\n",
    "import numpy as np\n",
    "import cv2\n",
    "import os\n",
    "from tensorflow.keras.utils import to_categorical"
   ]
  },
  {
   "cell_type": "code",
   "execution_count": null,
   "metadata": {},
   "outputs": [],
   "source": [
    "# show the confusion matrix, accuracy, sensitivity, and specificity\n",
    "\n",
    "\n",
    "# plot the training loss and accuracy\n",
    "N = 50\n",
    "plt.style.use(\"ggplot\")\n",
    "plt.figure()\n",
    "plt.plot(np.arange(0, N), H.history[\"loss\"], label=\"train_loss\")\n",
    "plt.plot(np.arange(0, N), H.history[\"val_loss\"], label=\"val_loss\")\n",
    "plt.plot(np.arange(0, N), H.history[\"accuracy\"], label=\"train_acc\")\n",
    "plt.plot(np.arange(0, N), H.history[\"val_accuracy\"], label=\"val_acc\")\n",
    "plt.title(\"Training Loss and Accuracy on COVID-19 Dataset\")\n",
    "plt.xlabel(\"Epoch #\")\n",
    "plt.ylabel(\"Loss/Accuracy\")\n",
    "plt.legend(loc=\"lower left\")"
   ]
  },
  {
   "cell_type": "markdown",
   "metadata": {},
   "source": [
    "## Save Model "
   ]
  },
  {
   "cell_type": "code",
   "execution_count": 11,
   "metadata": {},
   "outputs": [],
   "source": [
    "model.save('/home/gxt/study/chestX-ray/3-10New/models/ResNet-50.h5')"
   ]
  },
  {
   "cell_type": "code",
   "execution_count": 1,
   "metadata": {},
   "outputs": [],
   "source": [
    "from tensorflow.keras.models import Model, load_model\n",
    "model = load_model('/home/gxt/study/chestX-ray/3-10New/models/ResNet-50.h5')"
   ]
  },
  {
   "cell_type": "code",
   "execution_count": null,
   "metadata": {
    "scrolled": false
   },
   "outputs": [],
   "source": [
    "model.summary()"
   ]
  },
  {
   "cell_type": "code",
   "execution_count": null,
   "metadata": {},
   "outputs": [],
   "source": [
    "import cv2\n",
    "import tensorflow\n",
    "import tensorflow as tf\n",
    "import numpy as np\n",
    "from matplotlib import pyplot as plt\n",
    "plt.axis('off')\n",
    "IMAGE_PATH = r'/home/gxt/study/chestX-ray/3-10New/dataset/X-ray/Train-Dataset/val/covid/COVID (62).png'\n",
    "LAYER_NAME = 'conv5_block3_3_conv'\n",
    "CLASS_INDEX = 0\n",
    "img = tensorflow.keras.preprocessing.image.load_img(IMAGE_PATH, target_size=(224, 224))\n",
    "img = tensorflow.keras.preprocessing.image.img_to_array(img)\n",
    "\n",
    "# Load initial model\n",
    "model = model\n",
    "\n",
    "# Create a graph that outputs target convolution and output\n",
    "grad_model = tensorflow.keras.models.Model([model.inputs], [model.get_layer(LAYER_NAME).output, model.output])\n",
    "\n",
    "# Get the score for target class\n",
    "with tf.GradientTape() as tape:\n",
    "    conv_outputs, predictions = grad_model(np.array([img]))\n",
    "    loss = predictions[:, CLASS_INDEX]\n",
    "\n",
    "# Extract filters and gradients\n",
    "output = conv_outputs[0]\n",
    "grads = tape.gradient(loss, conv_outputs)[0]\n",
    "#print(grads)\n",
    "# Average gradients spatially\n",
    "weights = tf.reduce_mean(grads, axis=(0, 1))\n",
    "\n",
    "# Build a ponderated map of filters according to gradients importance\n",
    "cam = np.ones(output.shape[0:2], dtype=np.float32)\n",
    "\n",
    "for index, w in enumerate(weights):\n",
    "    cam += w * output[:, :, index]\n",
    "\n",
    "# Heatmap visualization\n",
    "cam = cv2.resize(cam.numpy(), (224, 224))\n",
    "cam = np.maximum(cam, 0)\n",
    "#heatmap = cam\n",
    "heatmap = (cam - cam.min()) / (cam.max() - cam.min())\n",
    "#print(heatmap)\n",
    "cam = cv2.applyColorMap(np.uint8(255*heatmap), cv2.COLORMAP_JET)\n",
    "output_image = cv2.addWeighted(cv2.cvtColor(img.astype('uint8'), cv2.COLOR_RGB2BGR), 0.6, cam, 0.5, 0)\n",
    "plt.imshow(output_image, cmap='rainbow')\n",
    "path1 = '/home/gxt/Desktop/images/covid/heatmap/'\n",
    "path = path1+'COVID (62).png'\n",
    "plt.savefig(path,bbox_inches='tight')"
   ]
  },
  {
   "cell_type": "code",
   "execution_count": null,
   "metadata": {},
   "outputs": [],
   "source": []
  }
 ],
 "metadata": {
  "kernelspec": {
   "display_name": "TF20PY37",
   "language": "python",
   "name": "python3"
  },
  "language_info": {
   "codemirror_mode": {
    "name": "ipython",
    "version": 3
   },
   "file_extension": ".py",
   "mimetype": "text/x-python",
   "name": "python",
   "nbconvert_exporter": "python",
   "pygments_lexer": "ipython3",
   "version": "3.7.10"
  },
  "varInspector": {
   "cols": {
    "lenName": 16,
    "lenType": 16,
    "lenVar": 40
   },
   "kernels_config": {
    "python": {
     "delete_cmd_postfix": "",
     "delete_cmd_prefix": "del ",
     "library": "var_list.py",
     "varRefreshCmd": "print(var_dic_list())"
    },
    "r": {
     "delete_cmd_postfix": ") ",
     "delete_cmd_prefix": "rm(",
     "library": "var_list.r",
     "varRefreshCmd": "cat(var_dic_list()) "
    }
   },
   "types_to_exclude": [
    "module",
    "function",
    "builtin_function_or_method",
    "instance",
    "_Feature"
   ],
   "window_display": false
  }
 },
 "nbformat": 4,
 "nbformat_minor": 5
}
