{
 "cells": [
  {
   "cell_type": "code",
   "execution_count": 19,
   "metadata": {},
   "outputs": [
    {
     "name": "stdout",
     "output_type": "stream",
     "text": [
      "Found 1292 images belonging to 1 classes.\n",
      "1320\n"
     ]
    }
   ],
   "source": [
    "from keras.preprocessing.image import ImageDataGenerator\n",
    "import os\n",
    "path = '/home/gxt/study/chestX-ray/3-10New/dataset/X-ray/Originalimages/covid/dataset/UntitledFolder'  \n",
    "dst_path='/home/gxt/study/chestX-ray/3-10New/dataset/X-ray/Originalimages/covid/dataset/covidTrainAug'\n",
    "imagepath = '/home/gxt/study/chestX-ray/3-10New/dataset/X-ray/Originalimages/covid/dataset/UntitledFolder/covidTrain'\n",
    "# 　ImageDataGenerator\n",
    "datagen = ImageDataGenerator(\n",
    " \n",
    "    rotation_range=15,\n",
    "    width_shift_range=0.02,\n",
    "    height_shift_range=0.02,\n",
    "    horizontal_flip=True,\n",
    "    vertical_flip=True\n",
    ")\n",
    " \n",
    "gen = datagen.flow_from_directory(\n",
    "    path,\n",
    "    target_size=(224, 224),\n",
    "    batch_size=5,\n",
    "    save_to_dir=dst_path,  # Saved path of generated image\n",
    "    save_prefix='covid-',\n",
    "    save_format='jpg')\n",
    "num = len(os.listdir(imagepath))\n",
    "print(num)\n",
    "for i in range(num):\n",
    "    gen.next()\n"
   ]
  },
  {
   "cell_type": "code",
   "execution_count": 18,
   "metadata": {},
   "outputs": [
    {
     "name": "stdout",
     "output_type": "stream",
     "text": [
      "Found 1560 images belonging to 1 classes.\n",
      "1560\n"
     ]
    }
   ],
   "source": [
    "from keras.preprocessing.image import ImageDataGenerator\n",
    "import os\n",
    "path = '/home/gxt/study/chestX-ray/3-10New/dataset/X-ray/Originalimages/normal/dataset/UntitledFolder'\n",
    "imagepath = '/home/gxt/study/chestX-ray/3-10New/dataset/X-ray/Originalimages/normal/dataset/UntitledFolder/normalTrain'  \n",
    "dst_path='/home/gxt/study/chestX-ray/3-10New/dataset/X-ray/Originalimages/normal/dataset/normalTrainAug'\n",
    "# 　ImageDataGenerator\n",
    "datagen = ImageDataGenerator(\n",
    " \n",
    "    rotation_range=15,\n",
    "    width_shift_range=0.02,\n",
    "    height_shift_range=0.02,\n",
    "    horizontal_flip=True,\n",
    "    vertical_flip=True\n",
    ")\n",
    " \n",
    "gen = datagen.flow_from_directory(\n",
    "    path,\n",
    "    target_size=(224, 224),\n",
    "    batch_size=5,\n",
    "    save_to_dir=dst_path,  # Saved path of generated image\n",
    "    save_prefix='normal-',\n",
    "    save_format='jpg')\n",
    "\n",
    "num = len(os.listdir(imagepath))\n",
    "print(num)\n",
    "for i in range(num):\n",
    "    gen.next()"
   ]
  },
  {
   "cell_type": "code",
   "execution_count": 22,
   "metadata": {},
   "outputs": [
    {
     "name": "stdout",
     "output_type": "stream",
     "text": [
      "Found 3000 images belonging to 1 classes.\n",
      "3000\n"
     ]
    }
   ],
   "source": [
    "from keras.preprocessing.image import ImageDataGenerator\n",
    "import os\n",
    "imagepath='/home/gxt/study/chestX-ray/3-10New/dataset/X-ray/Originalimages/pneumo/dataset/Untitled Folder/pneumoTrain'\n",
    "path = '/home/gxt/study/chestX-ray/3-10New/dataset/X-ray/Originalimages/pneumo/dataset/Untitled Folder' \n",
    "dst_path='/home/gxt/study/chestX-ray/3-10New/dataset/X-ray/Originalimages/pneumo/dataset/train'\n",
    "# 　ImageDataGenerator\n",
    "datagen = ImageDataGenerator(\n",
    " \n",
    "    rotation_range=5,\n",
    "    width_shift_range=0.02,\n",
    "    height_shift_range=0.02,\n",
    "    horizontal_flip=True,\n",
    "    vertical_flip=True\n",
    ")\n",
    " \n",
    "gen = datagen.flow_from_directory(\n",
    "    path,\n",
    "    target_size=(224, 224),\n",
    "    batch_size=2,\n",
    "    save_to_dir=dst_path,  # Saved path of generated image\n",
    "    save_prefix='pneumo-',\n",
    "    save_format='jpg')\n",
    "\n",
    "num = len(os.listdir(imagepath))\n",
    "print(num)\n",
    "for i in range(num):\n",
    "    gen.next()"
   ]
  },
  {
   "cell_type": "code",
   "execution_count": null,
   "metadata": {},
   "outputs": [],
   "source": []
  }
 ],
 "metadata": {
  "kernelspec": {
   "display_name": "Python 3",
   "language": "python",
   "name": "python3"
  },
  "language_info": {
   "codemirror_mode": {
    "name": "ipython",
    "version": 3
   },
   "file_extension": ".py",
   "mimetype": "text/x-python",
   "name": "python",
   "nbconvert_exporter": "python",
   "pygments_lexer": "ipython3",
   "version": "3.8.5"
  }
 },
 "nbformat": 4,
 "nbformat_minor": 2
}
